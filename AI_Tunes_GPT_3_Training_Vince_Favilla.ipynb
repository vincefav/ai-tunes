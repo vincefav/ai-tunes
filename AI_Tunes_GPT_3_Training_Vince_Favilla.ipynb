{
  "nbformat": 4,
  "nbformat_minor": 0,
  "metadata": {
    "colab": {
      "name": "AI-Tunes GPT-3 Training  - Vince Favilla",
      "provenance": [],
      "collapsed_sections": [],
      "include_colab_link": true
    },
    "kernelspec": {
      "name": "python3",
      "display_name": "Python 3"
    },
    "language_info": {
      "name": "python"
    }
  },
  "cells": [
    {
      "cell_type": "markdown",
      "metadata": {
        "id": "view-in-github",
        "colab_type": "text"
      },
      "source": [
        "<a href=\"https://colab.research.google.com/github/vincefav/ai-tunes/blob/main/AI_Tunes_GPT_3_Training_Vince_Favilla.ipynb\" target=\"_parent\"><img src=\"https://colab.research.google.com/assets/colab-badge.svg\" alt=\"Open In Colab\"/></a>"
      ]
    },
    {
      "cell_type": "markdown",
      "metadata": {
        "id": "EVelIY2TaRy9"
      },
      "source": [
        "# **AI-Tunes: Creating New Songs with Artificial Intelligence**\n",
        "### **How I fine-tuned OpenAI's GPT-3 to generate music with a global structure**\n",
        "By Robert. A Gonsalves\n",
        "\n",
        "You can read my article about this project on [Medium](https://towardsdatascience.com/ai-tunes-creating-new-songs-with-artificial-intelligence-4fb383218146).\n",
        "\n",
        "The source code is released under the CC BY-SA license.\n",
        "\n",
        "![CC BY-NC-SA](https://licensebuttons.net/l/by-sa/4.0/88x31.png)\n"
      ]
    },
    {
      "cell_type": "markdown",
      "metadata": {
        "id": "bAP6FaK9hzTu"
      },
      "source": [
        "##**Initialize the System**"
      ]
    },
    {
      "cell_type": "code",
      "metadata": {
        "id": "5Qe6fbeWTc3J",
        "colab": {
          "base_uri": "https://localhost:8080/"
        },
        "outputId": "99a558c2-9957-4c4e-9edd-880ca92b025a"
      },
      "source": [
        "!git clone https://github.com/robgon-art/music-geometry-eval\n",
        "!git clone https://github.com/00sapo/OpenEWLD\n",
        "!gsutil -q -m cp -r gs://magentadata/models/music_transformer/primers/* /content/\n",
        "!gsutil -q -m cp gs://magentadata/soundfonts/Yamaha-C5-Salamander-JNv5.1.sf2 /content/\n",
        "!apt-get update -qq && apt-get install -qq libfluidsynth1 build-essential libasound2-dev libjack-dev\n",
        "!pip install magenta\n",
        "!pip install pyfluidsynth\n",
        "!pip install openai\n",
        "import note_seq\n",
        "SF2_PATH = '/content/Yamaha-C5-Salamander-JNv5.1.sf2'\n",
        "SAMPLE_RATE = 16000\n",
        "\n",
        "!wget https://wim.vree.org/svgParse/xml2abc.py-143.zip\n",
        "!unzip xml2abc.py-143.zip\n",
        "import sys\n",
        "sys.path.append('/content/music-geometry-eval/music_geometry_eval')\n",
        "import music_geometry_eval\n",
        "import glob\n",
        "import random\n",
        "import music21\n",
        "import music_geometry_eval\n",
        "from collections.abc import Iterable\n",
        "import numpy as np\n",
        "\n",
        "\n",
        "transpose_dict = {\"G major\": 5, \"A- major\": 4, \"A major\": 3, \"B- major\": 2, \"B major\": 1, \"C major\": 0, \"D- major\": -1, \"D major\": -2, \"E- major\": -3, \"E major\": -4, \"F major\": -5, \"F# major\": -6}"
      ],
      "execution_count": null,
      "outputs": [
        {
          "output_type": "stream",
          "name": "stdout",
          "text": [
            "fatal: destination path 'music-geometry-eval' already exists and is not an empty directory.\n",
            "fatal: destination path 'OpenEWLD' already exists and is not an empty directory.\n",
            "Requirement already satisfied: magenta in /usr/local/lib/python3.7/dist-packages (2.1.3)\n",
            "Requirement already satisfied: sk-video in /usr/local/lib/python3.7/dist-packages (from magenta) (1.1.10)\n",
            "Requirement already satisfied: imageio in /usr/local/lib/python3.7/dist-packages (from magenta) (2.4.1)\n",
            "Requirement already satisfied: pretty-midi>=0.2.6 in /usr/local/lib/python3.7/dist-packages (from magenta) (0.2.9)\n",
            "Requirement already satisfied: dm-sonnet in /usr/local/lib/python3.7/dist-packages (from magenta) (2.0.0)\n",
            "Requirement already satisfied: numba<0.50 in /usr/local/lib/python3.7/dist-packages (from magenta) (0.49.1)\n",
            "Requirement already satisfied: mir-eval>=0.4 in /usr/local/lib/python3.7/dist-packages (from magenta) (0.7)\n",
            "Requirement already satisfied: scikit-image in /usr/local/lib/python3.7/dist-packages (from magenta) (0.18.3)\n",
            "Requirement already satisfied: numpy in /usr/local/lib/python3.7/dist-packages (from magenta) (1.21.5)\n",
            "Requirement already satisfied: tf-slim in /usr/local/lib/python3.7/dist-packages (from magenta) (1.1.0)\n",
            "Requirement already satisfied: six>=1.12.0 in /usr/local/lib/python3.7/dist-packages (from magenta) (1.15.0)\n",
            "Requirement already satisfied: wheel in /usr/local/lib/python3.7/dist-packages (from magenta) (0.37.1)\n",
            "Requirement already satisfied: dopamine-rl<=3.0.1 in /usr/local/lib/python3.7/dist-packages (from magenta) (1.0.5)\n",
            "Requirement already satisfied: absl-py in /usr/local/lib/python3.7/dist-packages (from magenta) (1.0.0)\n",
            "Requirement already satisfied: sox>=1.3.7 in /usr/local/lib/python3.7/dist-packages (from magenta) (1.4.1)\n",
            "Requirement already satisfied: tensorflow-datasets in /usr/local/lib/python3.7/dist-packages (from magenta) (4.0.1)\n",
            "Requirement already satisfied: tensorflow-probability in /usr/local/lib/python3.7/dist-packages (from magenta) (0.7.0)\n",
            "Requirement already satisfied: pygtrie>=2.3 in /usr/local/lib/python3.7/dist-packages (from magenta) (2.4.2)\n",
            "Requirement already satisfied: librosa<0.8.0,>=0.6.2 in /usr/local/lib/python3.7/dist-packages (from magenta) (0.7.2)\n",
            "Requirement already satisfied: Pillow>=3.4.2 in /usr/local/lib/python3.7/dist-packages (from magenta) (7.1.2)\n",
            "Requirement already satisfied: matplotlib>=1.5.3 in /usr/local/lib/python3.7/dist-packages (from magenta) (3.2.2)\n",
            "Requirement already satisfied: python-rtmidi<1.2,>=1.1 in /usr/local/lib/python3.7/dist-packages (from magenta) (1.1.2)\n",
            "Requirement already satisfied: scipy>=0.18.1 in /usr/local/lib/python3.7/dist-packages (from magenta) (1.4.1)\n",
            "Requirement already satisfied: note-seq in /usr/local/lib/python3.7/dist-packages (from magenta) (0.0.3)\n",
            "Requirement already satisfied: mido==1.2.6 in /usr/local/lib/python3.7/dist-packages (from magenta) (1.2.6)\n",
            "Requirement already satisfied: tensor2tensor in /usr/local/lib/python3.7/dist-packages (from magenta) (1.15.7)\n",
            "Requirement already satisfied: tensorflow in /usr/local/lib/python3.7/dist-packages (from magenta) (2.8.0)\n",
            "Requirement already satisfied: gin-config>=0.1.1 in /usr/local/lib/python3.7/dist-packages (from dopamine-rl<=3.0.1->magenta) (0.5.0)\n",
            "Requirement already satisfied: opencv-python>=3.4.1.15 in /usr/local/lib/python3.7/dist-packages (from dopamine-rl<=3.0.1->magenta) (4.1.2.30)\n",
            "Requirement already satisfied: gym>=0.10.5 in /usr/local/lib/python3.7/dist-packages (from dopamine-rl<=3.0.1->magenta) (0.17.3)\n",
            "Requirement already satisfied: pyglet<=1.5.0,>=1.4.0 in /usr/local/lib/python3.7/dist-packages (from gym>=0.10.5->dopamine-rl<=3.0.1->magenta) (1.5.0)\n",
            "Requirement already satisfied: cloudpickle<1.7.0,>=1.2.0 in /usr/local/lib/python3.7/dist-packages (from gym>=0.10.5->dopamine-rl<=3.0.1->magenta) (1.3.0)\n",
            "Requirement already satisfied: joblib>=0.12 in /usr/local/lib/python3.7/dist-packages (from librosa<0.8.0,>=0.6.2->magenta) (1.1.0)\n",
            "Requirement already satisfied: decorator>=3.0.0 in /usr/local/lib/python3.7/dist-packages (from librosa<0.8.0,>=0.6.2->magenta) (4.4.2)\n",
            "Requirement already satisfied: resampy>=0.2.2 in /usr/local/lib/python3.7/dist-packages (from librosa<0.8.0,>=0.6.2->magenta) (0.2.2)\n",
            "Requirement already satisfied: audioread>=2.0.0 in /usr/local/lib/python3.7/dist-packages (from librosa<0.8.0,>=0.6.2->magenta) (2.1.9)\n",
            "Requirement already satisfied: soundfile>=0.9.0 in /usr/local/lib/python3.7/dist-packages (from librosa<0.8.0,>=0.6.2->magenta) (0.10.3.post1)\n",
            "Requirement already satisfied: scikit-learn!=0.19.0,>=0.14.0 in /usr/local/lib/python3.7/dist-packages (from librosa<0.8.0,>=0.6.2->magenta) (1.0.2)\n",
            "Requirement already satisfied: pyparsing!=2.0.4,!=2.1.2,!=2.1.6,>=2.0.1 in /usr/local/lib/python3.7/dist-packages (from matplotlib>=1.5.3->magenta) (3.0.7)\n",
            "Requirement already satisfied: kiwisolver>=1.0.1 in /usr/local/lib/python3.7/dist-packages (from matplotlib>=1.5.3->magenta) (1.4.0)\n",
            "Requirement already satisfied: cycler>=0.10 in /usr/local/lib/python3.7/dist-packages (from matplotlib>=1.5.3->magenta) (0.11.0)\n",
            "Requirement already satisfied: python-dateutil>=2.1 in /usr/local/lib/python3.7/dist-packages (from matplotlib>=1.5.3->magenta) (2.8.2)\n",
            "Requirement already satisfied: typing-extensions in /usr/local/lib/python3.7/dist-packages (from kiwisolver>=1.0.1->matplotlib>=1.5.3->magenta) (3.10.0.2)\n",
            "Requirement already satisfied: future in /usr/local/lib/python3.7/dist-packages (from mir-eval>=0.4->magenta) (0.16.0)\n",
            "Requirement already satisfied: setuptools in /usr/local/lib/python3.7/dist-packages (from numba<0.50->magenta) (57.4.0)\n",
            "Requirement already satisfied: llvmlite<=0.33.0.dev0,>=0.31.0.dev0 in /usr/local/lib/python3.7/dist-packages (from numba<0.50->magenta) (0.32.1)\n",
            "Requirement already satisfied: threadpoolctl>=2.0.0 in /usr/local/lib/python3.7/dist-packages (from scikit-learn!=0.19.0,>=0.14.0->librosa<0.8.0,>=0.6.2->magenta) (3.1.0)\n",
            "Requirement already satisfied: cffi>=1.0 in /usr/local/lib/python3.7/dist-packages (from soundfile>=0.9.0->librosa<0.8.0,>=0.6.2->magenta) (1.15.0)\n",
            "Requirement already satisfied: pycparser in /usr/local/lib/python3.7/dist-packages (from cffi>=1.0->soundfile>=0.9.0->librosa<0.8.0,>=0.6.2->magenta) (2.21)\n",
            "Requirement already satisfied: dm-tree>=0.1.1 in /usr/local/lib/python3.7/dist-packages (from dm-sonnet->magenta) (0.1.6)\n",
            "Requirement already satisfied: wrapt>=1.11.1 in /usr/local/lib/python3.7/dist-packages (from dm-sonnet->magenta) (1.14.0)\n",
            "Requirement already satisfied: tabulate>=0.7.5 in /usr/local/lib/python3.7/dist-packages (from dm-sonnet->magenta) (0.8.9)\n",
            "Requirement already satisfied: attrs in /usr/local/lib/python3.7/dist-packages (from note-seq->magenta) (21.4.0)\n",
            "Requirement already satisfied: intervaltree>=2.1.0 in /usr/local/lib/python3.7/dist-packages (from note-seq->magenta) (2.1.0)\n",
            "Requirement already satisfied: IPython in /usr/local/lib/python3.7/dist-packages (from note-seq->magenta) (5.5.0)\n",
            "Requirement already satisfied: bokeh>=0.12.0 in /usr/local/lib/python3.7/dist-packages (from note-seq->magenta) (2.3.3)\n",
            "Requirement already satisfied: protobuf>=3.6.1 in /usr/local/lib/python3.7/dist-packages (from note-seq->magenta) (3.17.3)\n",
            "Requirement already satisfied: pydub in /usr/local/lib/python3.7/dist-packages (from note-seq->magenta) (0.25.1)\n",
            "Requirement already satisfied: pandas>=0.18.1 in /usr/local/lib/python3.7/dist-packages (from note-seq->magenta) (1.3.5)\n",
            "Requirement already satisfied: tornado>=5.1 in /usr/local/lib/python3.7/dist-packages (from bokeh>=0.12.0->note-seq->magenta) (5.1.1)\n",
            "Requirement already satisfied: Jinja2>=2.9 in /usr/local/lib/python3.7/dist-packages (from bokeh>=0.12.0->note-seq->magenta) (2.11.3)\n",
            "Requirement already satisfied: PyYAML>=3.10 in /usr/local/lib/python3.7/dist-packages (from bokeh>=0.12.0->note-seq->magenta) (3.13)\n",
            "Requirement already satisfied: packaging>=16.8 in /usr/local/lib/python3.7/dist-packages (from bokeh>=0.12.0->note-seq->magenta) (21.3)\n",
            "Requirement already satisfied: sortedcontainers in /usr/local/lib/python3.7/dist-packages (from intervaltree>=2.1.0->note-seq->magenta) (2.4.0)\n",
            "Requirement already satisfied: MarkupSafe>=0.23 in /usr/local/lib/python3.7/dist-packages (from Jinja2>=2.9->bokeh>=0.12.0->note-seq->magenta) (2.0.1)\n",
            "Requirement already satisfied: pytz>=2017.3 in /usr/local/lib/python3.7/dist-packages (from pandas>=0.18.1->note-seq->magenta) (2018.9)\n",
            "Requirement already satisfied: pexpect in /usr/local/lib/python3.7/dist-packages (from IPython->note-seq->magenta) (4.8.0)\n",
            "Requirement already satisfied: prompt-toolkit<2.0.0,>=1.0.4 in /usr/local/lib/python3.7/dist-packages (from IPython->note-seq->magenta) (1.0.18)\n",
            "Requirement already satisfied: pickleshare in /usr/local/lib/python3.7/dist-packages (from IPython->note-seq->magenta) (0.7.5)\n",
            "Requirement already satisfied: traitlets>=4.2 in /usr/local/lib/python3.7/dist-packages (from IPython->note-seq->magenta) (5.1.1)\n",
            "Requirement already satisfied: pygments in /usr/local/lib/python3.7/dist-packages (from IPython->note-seq->magenta) (2.6.1)\n",
            "Requirement already satisfied: simplegeneric>0.8 in /usr/local/lib/python3.7/dist-packages (from IPython->note-seq->magenta) (0.8.1)\n",
            "Requirement already satisfied: wcwidth in /usr/local/lib/python3.7/dist-packages (from prompt-toolkit<2.0.0,>=1.0.4->IPython->note-seq->magenta) (0.2.5)\n",
            "Requirement already satisfied: ptyprocess>=0.5 in /usr/local/lib/python3.7/dist-packages (from pexpect->IPython->note-seq->magenta) (0.7.0)\n",
            "Requirement already satisfied: tifffile>=2019.7.26 in /usr/local/lib/python3.7/dist-packages (from scikit-image->magenta) (2021.11.2)\n",
            "Requirement already satisfied: PyWavelets>=1.1.1 in /usr/local/lib/python3.7/dist-packages (from scikit-image->magenta) (1.3.0)\n",
            "Requirement already satisfied: networkx>=2.0 in /usr/local/lib/python3.7/dist-packages (from scikit-image->magenta) (2.6.3)\n",
            "Requirement already satisfied: sympy in /usr/local/lib/python3.7/dist-packages (from tensor2tensor->magenta) (1.7.1)\n",
            "Requirement already satisfied: pypng in /usr/local/lib/python3.7/dist-packages (from tensor2tensor->magenta) (0.0.21)\n",
            "Requirement already satisfied: requests in /usr/local/lib/python3.7/dist-packages (from tensor2tensor->magenta) (2.23.0)\n",
            "Requirement already satisfied: tensorflow-addons in /usr/local/lib/python3.7/dist-packages (from tensor2tensor->magenta) (0.16.1)\n",
            "Requirement already satisfied: bz2file in /usr/local/lib/python3.7/dist-packages (from tensor2tensor->magenta) (0.98)\n",
            "Requirement already satisfied: tensorflow-gan in /usr/local/lib/python3.7/dist-packages (from tensor2tensor->magenta) (2.1.0)\n",
            "Requirement already satisfied: kfac in /usr/local/lib/python3.7/dist-packages (from tensor2tensor->magenta) (0.2.0)\n",
            "Requirement already satisfied: google-api-python-client in /usr/local/lib/python3.7/dist-packages (from tensor2tensor->magenta) (1.12.11)\n",
            "Requirement already satisfied: oauth2client in /usr/local/lib/python3.7/dist-packages (from tensor2tensor->magenta) (4.1.3)\n",
            "Requirement already satisfied: gevent in /usr/local/lib/python3.7/dist-packages (from tensor2tensor->magenta) (21.12.0)\n",
            "Requirement already satisfied: gunicorn in /usr/local/lib/python3.7/dist-packages (from tensor2tensor->magenta) (20.1.0)\n",
            "Requirement already satisfied: flask in /usr/local/lib/python3.7/dist-packages (from tensor2tensor->magenta) (1.1.4)\n",
            "Requirement already satisfied: h5py in /usr/local/lib/python3.7/dist-packages (from tensor2tensor->magenta) (3.1.0)\n",
            "Requirement already satisfied: mesh-tensorflow in /usr/local/lib/python3.7/dist-packages (from tensor2tensor->magenta) (0.1.19)\n",
            "Requirement already satisfied: tqdm in /usr/local/lib/python3.7/dist-packages (from tensor2tensor->magenta) (4.63.0)\n",
            "Requirement already satisfied: itsdangerous<2.0,>=0.24 in /usr/local/lib/python3.7/dist-packages (from flask->tensor2tensor->magenta) (1.1.0)\n",
            "Requirement already satisfied: click<8.0,>=5.1 in /usr/local/lib/python3.7/dist-packages (from flask->tensor2tensor->magenta) (7.1.2)\n",
            "Requirement already satisfied: Werkzeug<2.0,>=0.15 in /usr/local/lib/python3.7/dist-packages (from flask->tensor2tensor->magenta) (1.0.1)\n",
            "Requirement already satisfied: greenlet<2.0,>=1.1.0 in /usr/local/lib/python3.7/dist-packages (from gevent->tensor2tensor->magenta) (1.1.2)\n",
            "Requirement already satisfied: zope.event in /usr/local/lib/python3.7/dist-packages (from gevent->tensor2tensor->magenta) (4.5.0)\n",
            "Requirement already satisfied: zope.interface in /usr/local/lib/python3.7/dist-packages (from gevent->tensor2tensor->magenta) (5.4.0)\n",
            "Requirement already satisfied: google-auth-httplib2>=0.0.3 in /usr/local/lib/python3.7/dist-packages (from google-api-python-client->tensor2tensor->magenta) (0.0.4)\n",
            "Requirement already satisfied: uritemplate<4dev,>=3.0.0 in /usr/local/lib/python3.7/dist-packages (from google-api-python-client->tensor2tensor->magenta) (3.0.1)\n",
            "Requirement already satisfied: google-api-core<3dev,>=1.21.0 in /usr/local/lib/python3.7/dist-packages (from google-api-python-client->tensor2tensor->magenta) (1.26.3)\n",
            "Requirement already satisfied: google-auth<3dev,>=1.16.0 in /usr/local/lib/python3.7/dist-packages (from google-api-python-client->tensor2tensor->magenta) (1.35.0)\n",
            "Requirement already satisfied: httplib2<1dev,>=0.15.0 in /usr/local/lib/python3.7/dist-packages (from google-api-python-client->tensor2tensor->magenta) (0.17.4)\n",
            "Requirement already satisfied: googleapis-common-protos<2.0dev,>=1.6.0 in /usr/local/lib/python3.7/dist-packages (from google-api-core<3dev,>=1.21.0->google-api-python-client->tensor2tensor->magenta) (1.56.0)\n",
            "Requirement already satisfied: rsa<5,>=3.1.4 in /usr/local/lib/python3.7/dist-packages (from google-auth<3dev,>=1.16.0->google-api-python-client->tensor2tensor->magenta) (4.8)\n",
            "Requirement already satisfied: pyasn1-modules>=0.2.1 in /usr/local/lib/python3.7/dist-packages (from google-auth<3dev,>=1.16.0->google-api-python-client->tensor2tensor->magenta) (0.2.8)\n",
            "Requirement already satisfied: cachetools<5.0,>=2.0.0 in /usr/local/lib/python3.7/dist-packages (from google-auth<3dev,>=1.16.0->google-api-python-client->tensor2tensor->magenta) (4.2.4)\n",
            "Requirement already satisfied: pyasn1<0.5.0,>=0.4.6 in /usr/local/lib/python3.7/dist-packages (from pyasn1-modules>=0.2.1->google-auth<3dev,>=1.16.0->google-api-python-client->tensor2tensor->magenta) (0.4.8)\n",
            "Requirement already satisfied: idna<3,>=2.5 in /usr/local/lib/python3.7/dist-packages (from requests->tensor2tensor->magenta) (2.10)\n",
            "Requirement already satisfied: chardet<4,>=3.0.2 in /usr/local/lib/python3.7/dist-packages (from requests->tensor2tensor->magenta) (3.0.4)\n",
            "Requirement already satisfied: certifi>=2017.4.17 in /usr/local/lib/python3.7/dist-packages (from requests->tensor2tensor->magenta) (2021.10.8)\n",
            "Requirement already satisfied: urllib3!=1.25.0,!=1.25.1,<1.26,>=1.21.1 in /usr/local/lib/python3.7/dist-packages (from requests->tensor2tensor->magenta) (1.24.3)\n",
            "Requirement already satisfied: cached-property in /usr/local/lib/python3.7/dist-packages (from h5py->tensor2tensor->magenta) (1.5.2)\n",
            "Requirement already satisfied: mpmath>=0.19 in /usr/local/lib/python3.7/dist-packages (from sympy->tensor2tensor->magenta) (1.2.1)\n",
            "Requirement already satisfied: termcolor>=1.1.0 in /usr/local/lib/python3.7/dist-packages (from tensorflow->magenta) (1.1.0)\n",
            "Requirement already satisfied: libclang>=9.0.1 in /usr/local/lib/python3.7/dist-packages (from tensorflow->magenta) (13.0.0)\n",
            "Requirement already satisfied: tf-estimator-nightly==2.8.0.dev2021122109 in /usr/local/lib/python3.7/dist-packages (from tensorflow->magenta) (2.8.0.dev2021122109)\n",
            "Requirement already satisfied: gast>=0.2.1 in /usr/local/lib/python3.7/dist-packages (from tensorflow->magenta) (0.5.3)\n",
            "Requirement already satisfied: tensorboard<2.9,>=2.8 in /usr/local/lib/python3.7/dist-packages (from tensorflow->magenta) (2.8.0)\n",
            "Requirement already satisfied: google-pasta>=0.1.1 in /usr/local/lib/python3.7/dist-packages (from tensorflow->magenta) (0.2.0)\n",
            "Requirement already satisfied: astunparse>=1.6.0 in /usr/local/lib/python3.7/dist-packages (from tensorflow->magenta) (1.6.3)\n",
            "Requirement already satisfied: flatbuffers>=1.12 in /usr/local/lib/python3.7/dist-packages (from tensorflow->magenta) (2.0)\n",
            "Requirement already satisfied: grpcio<2.0,>=1.24.3 in /usr/local/lib/python3.7/dist-packages (from tensorflow->magenta) (1.44.0)\n",
            "Requirement already satisfied: keras<2.9,>=2.8.0rc0 in /usr/local/lib/python3.7/dist-packages (from tensorflow->magenta) (2.8.0)\n",
            "Requirement already satisfied: keras-preprocessing>=1.1.1 in /usr/local/lib/python3.7/dist-packages (from tensorflow->magenta) (1.1.2)\n",
            "Requirement already satisfied: opt-einsum>=2.3.2 in /usr/local/lib/python3.7/dist-packages (from tensorflow->magenta) (3.3.0)\n",
            "Requirement already satisfied: tensorflow-io-gcs-filesystem>=0.23.1 in /usr/local/lib/python3.7/dist-packages (from tensorflow->magenta) (0.24.0)\n",
            "Requirement already satisfied: tensorboard-plugin-wit>=1.6.0 in /usr/local/lib/python3.7/dist-packages (from tensorboard<2.9,>=2.8->tensorflow->magenta) (1.8.1)\n",
            "Requirement already satisfied: markdown>=2.6.8 in /usr/local/lib/python3.7/dist-packages (from tensorboard<2.9,>=2.8->tensorflow->magenta) (3.3.6)\n",
            "Requirement already satisfied: tensorboard-data-server<0.7.0,>=0.6.0 in /usr/local/lib/python3.7/dist-packages (from tensorboard<2.9,>=2.8->tensorflow->magenta) (0.6.1)\n",
            "Requirement already satisfied: google-auth-oauthlib<0.5,>=0.4.1 in /usr/local/lib/python3.7/dist-packages (from tensorboard<2.9,>=2.8->tensorflow->magenta) (0.4.6)\n",
            "Requirement already satisfied: requests-oauthlib>=0.7.0 in /usr/local/lib/python3.7/dist-packages (from google-auth-oauthlib<0.5,>=0.4.1->tensorboard<2.9,>=2.8->tensorflow->magenta) (1.3.1)\n",
            "Requirement already satisfied: importlib-metadata>=4.4 in /usr/local/lib/python3.7/dist-packages (from markdown>=2.6.8->tensorboard<2.9,>=2.8->tensorflow->magenta) (4.11.3)\n",
            "Requirement already satisfied: zipp>=0.5 in /usr/local/lib/python3.7/dist-packages (from importlib-metadata>=4.4->markdown>=2.6.8->tensorboard<2.9,>=2.8->tensorflow->magenta) (3.7.0)\n",
            "Requirement already satisfied: oauthlib>=3.0.0 in /usr/local/lib/python3.7/dist-packages (from requests-oauthlib>=0.7.0->google-auth-oauthlib<0.5,>=0.4.1->tensorboard<2.9,>=2.8->tensorflow->magenta) (3.2.0)\n",
            "Requirement already satisfied: typeguard>=2.7 in /usr/local/lib/python3.7/dist-packages (from tensorflow-addons->tensor2tensor->magenta) (2.7.1)\n",
            "Requirement already satisfied: importlib-resources in /usr/local/lib/python3.7/dist-packages (from tensorflow-datasets->magenta) (5.4.0)\n",
            "Requirement already satisfied: dill in /usr/local/lib/python3.7/dist-packages (from tensorflow-datasets->magenta) (0.3.4)\n",
            "Requirement already satisfied: promise in /usr/local/lib/python3.7/dist-packages (from tensorflow-datasets->magenta) (2.3)\n",
            "Requirement already satisfied: tensorflow-metadata in /usr/local/lib/python3.7/dist-packages (from tensorflow-datasets->magenta) (1.7.0)\n",
            "Requirement already satisfied: tensorflow-hub>=0.2 in /usr/local/lib/python3.7/dist-packages (from tensorflow-gan->tensor2tensor->magenta) (0.12.0)\n",
            "Requirement already satisfied: pyfluidsynth in /usr/local/lib/python3.7/dist-packages (1.3.0)\n",
            "Requirement already satisfied: numpy in /usr/local/lib/python3.7/dist-packages (from pyfluidsynth) (1.21.5)\n",
            "Requirement already satisfied: openai in /usr/local/lib/python3.7/dist-packages (0.16.0)\n",
            "Requirement already satisfied: requests>=2.20 in /usr/local/lib/python3.7/dist-packages (from openai) (2.23.0)\n",
            "Requirement already satisfied: pandas>=1.2.3 in /usr/local/lib/python3.7/dist-packages (from openai) (1.3.5)\n",
            "Requirement already satisfied: openpyxl>=3.0.7 in /usr/local/lib/python3.7/dist-packages (from openai) (3.0.9)\n",
            "Requirement already satisfied: pandas-stubs>=1.1.0.11 in /usr/local/lib/python3.7/dist-packages (from openai) (1.2.0.54)\n",
            "Requirement already satisfied: tqdm in /usr/local/lib/python3.7/dist-packages (from openai) (4.63.0)\n",
            "Requirement already satisfied: et-xmlfile in /usr/local/lib/python3.7/dist-packages (from openpyxl>=3.0.7->openai) (1.1.0)\n",
            "Requirement already satisfied: numpy>=1.17.3 in /usr/local/lib/python3.7/dist-packages (from pandas>=1.2.3->openai) (1.21.5)\n",
            "Requirement already satisfied: python-dateutil>=2.7.3 in /usr/local/lib/python3.7/dist-packages (from pandas>=1.2.3->openai) (2.8.2)\n",
            "Requirement already satisfied: pytz>=2017.3 in /usr/local/lib/python3.7/dist-packages (from pandas>=1.2.3->openai) (2018.9)\n",
            "Requirement already satisfied: typing-extensions>=3.7.4.3 in /usr/local/lib/python3.7/dist-packages (from pandas-stubs>=1.1.0.11->openai) (3.10.0.2)\n",
            "Requirement already satisfied: six>=1.5 in /usr/local/lib/python3.7/dist-packages (from python-dateutil>=2.7.3->pandas>=1.2.3->openai) (1.15.0)\n",
            "Requirement already satisfied: urllib3!=1.25.0,!=1.25.1,<1.26,>=1.21.1 in /usr/local/lib/python3.7/dist-packages (from requests>=2.20->openai) (1.24.3)\n",
            "Requirement already satisfied: chardet<4,>=3.0.2 in /usr/local/lib/python3.7/dist-packages (from requests>=2.20->openai) (3.0.4)\n",
            "Requirement already satisfied: idna<3,>=2.5 in /usr/local/lib/python3.7/dist-packages (from requests>=2.20->openai) (2.10)\n",
            "Requirement already satisfied: certifi>=2017.4.17 in /usr/local/lib/python3.7/dist-packages (from requests>=2.20->openai) (2021.10.8)\n"
          ]
        },
        {
          "output_type": "stream",
          "name": "stderr",
          "text": [
            "/usr/local/lib/python3.7/dist-packages/librosa/util/decorators.py:9: NumbaDeprecationWarning: An import was requested from a module that has moved location.\n",
            "Import requested from: 'numba.decorators', please update to use 'numba.core.decorators' or pin to Numba version 0.48.0. This alias will not be present in Numba version 0.50.0.\n",
            "  from numba.decorators import jit as optional_jit\n",
            "/usr/local/lib/python3.7/dist-packages/librosa/util/decorators.py:9: NumbaDeprecationWarning: An import was requested from a module that has moved location.\n",
            "Import of 'jit' requested from: 'numba.decorators', please update to use 'numba.core.decorators' or pin to Numba version 0.48.0. This alias will not be present in Numba version 0.50.0.\n",
            "  from numba.decorators import jit as optional_jit\n"
          ]
        },
        {
          "output_type": "stream",
          "name": "stdout",
          "text": [
            "--2022-04-01 03:32:13--  https://wim.vree.org/svgParse/xml2abc.py-143.zip\n",
            "Resolving wim.vree.org (wim.vree.org)... 217.160.212.185\n",
            "Connecting to wim.vree.org (wim.vree.org)|217.160.212.185|:443... connected.\n",
            "HTTP request sent, awaiting response... 200 OK\n",
            "Length: 32743 (32K) [application/zip]\n",
            "Saving to: ‘xml2abc.py-143.zip.3’\n",
            "\n",
            "xml2abc.py-143.zip. 100%[===================>]  31.98K  --.-KB/s    in 0.1s    \n",
            "\n",
            "2022-04-01 03:32:14 (311 KB/s) - ‘xml2abc.py-143.zip.3’ saved [32743/32743]\n",
            "\n",
            "Archive:  xml2abc.py-143.zip\n",
            "replace xml2abc_143/xml2abc.py? [y]es, [n]o, [A]ll, [N]one, [r]ename: N\n"
          ]
        }
      ]
    },
    {
      "cell_type": "code",
      "source": [
        "from google.colab import drive\n",
        "drive.mount('/content/drive')"
      ],
      "metadata": {
        "colab": {
          "base_uri": "https://localhost:8080/"
        },
        "id": "PUhxeZJW83nY",
        "outputId": "543793cb-bedb-4891-cfab-cfc65ea49a28"
      },
      "execution_count": null,
      "outputs": [
        {
          "output_type": "stream",
          "name": "stdout",
          "text": [
            "Mounted at /content/drive\n"
          ]
        }
      ]
    },
    {
      "cell_type": "code",
      "source": [
        "random.seed(42)\n",
        "\n",
        "# Edited for my file structure\n",
        "song_files = glob.glob(\"/content/drive/MyDrive/music_training/*/*/*/*.abc\")\n",
        "\n",
        "# random.shuffle(song_files)\n",
        "num_files = len(song_files)\n",
        "print(song_files)\n",
        "print(\"number of song files is\", num_files)"
      ],
      "metadata": {
        "colab": {
          "base_uri": "https://localhost:8080/"
        },
        "id": "6ISUxzPl8xdV",
        "outputId": "4299abb1-4a45-4551-d861-0aea60889c0e"
      },
      "execution_count": null,
      "outputs": [
        {
          "output_type": "stream",
          "name": "stdout",
          "text": [
            "['/content/drive/MyDrive/music_training/Classical/Chopin/Chopin/2_Bourrees_B.abc', '/content/drive/MyDrive/music_training/Classical/Chopin/Chopin/Album_Leaf_in_E_Major.abc', '/content/drive/MyDrive/music_training/Classical/Chopin/Chopin/Allegretto_Fis_Dur.abc', '/content/drive/MyDrive/music_training/Classical/Chopin/Chopin/Allegro_de_concert,_Op.abc', '/content/drive/MyDrive/music_training/Classical/Chopin/Chopin/Andante_Spianato_and_Grande_Polonaise_Brillante_Op.abc', '/content/drive/MyDrive/music_training/Classical/Chopin/Chopin/Ballade_Op.abc', '/content/drive/MyDrive/music_training/Classical/Chopin/Chopin/Barcarolle_Op.abc', '/content/drive/MyDrive/music_training/Classical/Chopin/Chopin/Bolero.abc', '/content/drive/MyDrive/music_training/Classical/Chopin/Chopin/Cantabile_in_B-flat_major.abc', '/content/drive/MyDrive/music_training/Classical/Chopin/Chopin/Chopin_Waltz__No.abc', '/content/drive/MyDrive/music_training/Classical/Chopin/Chopin/Contredanse_in_G-Flat_Major.abc', '/content/drive/MyDrive/music_training/Classical/Chopin/Chopin/Dumka_for_voice_and_piano.abc', '/content/drive/MyDrive/music_training/Classical/Chopin/Chopin/Fantasia_Impromptu_Op.abc', '/content/drive/MyDrive/music_training/Classical/Chopin/Chopin/Four_Mazurkas,_Op.abc', '/content/drive/MyDrive/music_training/Classical/Chopin/Chopin/Fugue_in_A_minor,_Op.abc', '/content/drive/MyDrive/music_training/Classical/Chopin/Chopin/Galop_Marquis_Op,_post.abc', '/content/drive/MyDrive/music_training/Classical/Chopin/Chopin/Grand_Valse_Brillante.abc', '/content/drive/MyDrive/music_training/Classical/Chopin/Chopin/Hexameron_Variation_No.abc', '/content/drive/MyDrive/music_training/Classical/Chopin/Chopin/Impromptu_No.abc', '/content/drive/MyDrive/music_training/Classical/Chopin/Chopin/Largo_in_E_Flat_Major.abc', '/content/drive/MyDrive/music_training/Classical/Chopin/Chopin/Marche_Funebre_,_Op.abc', '/content/drive/MyDrive/music_training/Classical/Chopin/Chopin/Mazurka_A_flat_major_Op.abc', '/content/drive/MyDrive/music_training/Classical/Chopin/Chopin/Mazurka_in_B_flat_major,_Op.abc', '/content/drive/MyDrive/music_training/Classical/Chopin/Chopin/Mazurka_in_D_major,_B.abc', \"/content/drive/MyDrive/music_training/Classical/Chopin/Chopin/Mazurka_kwiaty'_Op.abc\", '/content/drive/MyDrive/music_training/Classical/Chopin/Chopin/Mazurka_No.abc', '/content/drive/MyDrive/music_training/Classical/Chopin/Chopin/Mazurka_Op.abc', '/content/drive/MyDrive/music_training/Classical/Chopin/Chopin/Mazurka,_Op.abc', '/content/drive/MyDrive/music_training/Classical/Chopin/Chopin/Mazurkas_Op.abc', '/content/drive/MyDrive/music_training/Classical/Chopin/Chopin/Minute_Waltz.abc', '/content/drive/MyDrive/music_training/Classical/Chopin/Chopin/No.abc', '/content/drive/MyDrive/music_training/Classical/Chopin/Chopin/Nocturne_in_C_sharp_minor.abc', '/content/drive/MyDrive/music_training/Classical/Chopin/Chopin/Nocturne_No.abc', '/content/drive/MyDrive/music_training/Classical/Chopin/Chopin/Nocturne_Op.abc', '/content/drive/MyDrive/music_training/Classical/Chopin/Chopin/Nocturne,_Opus_9_no.abc', '/content/drive/MyDrive/music_training/Classical/Chopin/Chopin/Nocturne,_Posthumous,_Op.abc', '/content/drive/MyDrive/music_training/Classical/Chopin/Chopin/Piano_Sonata_No.abc', '/content/drive/MyDrive/music_training/Classical/Chopin/Chopin/Polonaise_74.abc', '/content/drive/MyDrive/music_training/Classical/Chopin/Chopin/Polonaise_in_A_major,_Op.abc', '/content/drive/MyDrive/music_training/Classical/Chopin/Chopin/Polonaise_in_B-flat_Major_Op.abc', '/content/drive/MyDrive/music_training/Classical/Chopin/Chopin/Polonaise_in_C_Minor,_Op.abc', '/content/drive/MyDrive/music_training/Classical/Chopin/Chopin/Polonaise_in_D_Minor_Op.abc', '/content/drive/MyDrive/music_training/Classical/Chopin/Chopin/Polonaise_in_F_Minor_Op.abc', '/content/drive/MyDrive/music_training/Classical/Chopin/Chopin/Polonaise_in_g_minor,_Op_Posth.abc', '/content/drive/MyDrive/music_training/Classical/Chopin/Chopin/Polonaise_op.abc', '/content/drive/MyDrive/music_training/Classical/Chopin/Chopin/Polonaise,_Op.abc', '/content/drive/MyDrive/music_training/Classical/Chopin/Chopin/Polonaise,op.abc', '/content/drive/MyDrive/music_training/Classical/Chopin/Chopin/Prelude_in_Ab_major,_Op.abc', '/content/drive/MyDrive/music_training/Classical/Chopin/Chopin/Prelude_in_C-sharp_minor,_Op.abc', '/content/drive/MyDrive/music_training/Classical/Chopin/Chopin/Prelude_Opus_28_no.abc', '/content/drive/MyDrive/music_training/Classical/Chopin/Chopin/Rondo_Op.abc', '/content/drive/MyDrive/music_training/Classical/Chopin/Chopin/Rondo_a_la_Krakowiak,_Op.abc', '/content/drive/MyDrive/music_training/Classical/Chopin/Chopin/Scherzo_No.abc', '/content/drive/MyDrive/music_training/Classical/Chopin/Chopin/Scherzo_Op.abc', '/content/drive/MyDrive/music_training/Classical/Chopin/Chopin/Sonata_No_3_in_B_minor,_Op_58.abc', '/content/drive/MyDrive/music_training/Classical/Chopin/Chopin/Souvenir_de_Paganini_Audio.abc', '/content/drive/MyDrive/music_training/Classical/Chopin/Chopin/Tarantella_Op.abc', '/content/drive/MyDrive/music_training/Classical/Chopin/Chopin/Trois_nouvelles_etudes.abc', '/content/drive/MyDrive/music_training/Classical/Chopin/Chopin/Unfinished_Canon_in_F_minor_B__129a.abc', '/content/drive/MyDrive/music_training/Classical/Chopin/Chopin/Valse_brillante_Op.abc', '/content/drive/MyDrive/music_training/Classical/Chopin/Chopin/Valse_Melancolique_in_F-sharp_Minor,_No.abc', '/content/drive/MyDrive/music_training/Classical/Chopin/Chopin/Variations_Brillantes,_Op.abc', \"/content/drive/MyDrive/music_training/Classical/Chopin/Chopin/Variations_on_'La_ci_darem_la_mano',_Op.abc\", '/content/drive/MyDrive/music_training/Classical/Chopin/Chopin/Variations_On_a_Theme_Of_Moore_Op_P1_No_6_In_D.abc', '/content/drive/MyDrive/music_training/Classical/Chopin/Chopin/Variations_Pour_Piano_Sur_Un_Air_Allemand_in_E_Major.abc', \"/content/drive/MyDrive/music_training/Classical/Chopin/Chopin/Waltz_'L'Adieu'_Op.abc\", '/content/drive/MyDrive/music_training/Classical/Chopin/Chopin/Waltz_A_flat_major_Op.abc', '/content/drive/MyDrive/music_training/Classical/Chopin/Chopin/Waltz_in_B_Minor.abc', '/content/drive/MyDrive/music_training/Classical/Chopin/Chopin/Waltz_In_E_Minor.abc', '/content/drive/MyDrive/music_training/Classical/Chopin/Chopin/Waltz_in_F_major,_Op.abc', '/content/drive/MyDrive/music_training/Classical/Chopin/Chopin/Waltz_No.abc', '/content/drive/MyDrive/music_training/Classical/Chopin/Chopin/Waltz_Op.abc', '/content/drive/MyDrive/music_training/Classical/Chopin/Chopin/Ecossaises_Op.abc', '/content/drive/MyDrive/music_training/Classical/Beethoven/Beethoven/Beethoven_-_Piano_Sonata_No_1_in_F_Minor,_Op_2_No_1_-_I_Allegro---52njGWKc0mi.abc', '/content/drive/MyDrive/music_training/Classical/Beethoven/Beethoven/Beethoven_-_Piano_Sonata_No_1_in_F_Minor,_Op_2_No_1_-_II_Adagio-9RWSY1bmEXkmi.abc', '/content/drive/MyDrive/music_training/Classical/Beethoven/Beethoven/Beethoven_-_Piano_Sonata_No_1_in_F_Minor,_Op_2_No_1_-_III_Menuetto_Allegretto-jfGVVmykxigmi.abc', '/content/drive/MyDrive/music_training/Classical/Beethoven/Beethoven/Beethoven_-_Piano_Sonata_No_1_in_F_Minor,_Op_2_No_1_-_IV_Prestissimo-vDilIL-Mvsgmi.abc', '/content/drive/MyDrive/music_training/Classical/Beethoven/Beethoven/Beethoven_-_Piano_Sonata_No_10_in_G_Major,_Op_14_No_2_-_I_Allegro-d-y1-TSFU24mi.abc', '/content/drive/MyDrive/music_training/Classical/Beethoven/Beethoven/Beethoven_-_Piano_Sonata_No_10_in_G_Major,_Op_14_No_2_-_II_Andante-gj94lPXRDeEmi.abc', '/content/drive/MyDrive/music_training/Classical/Beethoven/Beethoven/Beethoven_-_Piano_Sonata_No_10_in_G_Major,_Op_14_No_2_-_III_Scherzo_Allegro_assai-iNVZ3okleaUmi.abc', '/content/drive/MyDrive/music_training/Classical/Beethoven/Beethoven/Beethoven_-_Piano_Sonata_No_11_in_B-Flat_Major,_Op_22_-_I_Allegro_con_brio-pwguyb8iGs8mi.abc', '/content/drive/MyDrive/music_training/Classical/Beethoven/Beethoven/Beethoven_-_Piano_Sonata_No_11_in_B-Flat_Major,_Op_22_-_II_Adagio_con_molto_espressione-IPKiCqGhThwmi.abc', '/content/drive/MyDrive/music_training/Classical/Beethoven/Beethoven/Beethoven_-_Piano_Sonata_No_11_in_B-Flat_Major,_Op_22_-_III_Menuetto-bkusaL6kIjYmi.abc', '/content/drive/MyDrive/music_training/Classical/Beethoven/Beethoven/Beethoven_-_Piano_Sonata_No_11_in_B-Flat_Major,_Op_22_-_IV_Rondo_Allegretto-5vGm_7DBWrcmi.abc', \"/content/drive/MyDrive/music_training/Classical/Beethoven/Beethoven/Beethoven_-_Piano_Sonata_No_12_in_A-Flat_Major,_Op_26_'Funeral_March'_-_I_Andante_con_variazioni-x7N44ygzTuAmi.abc\", \"/content/drive/MyDrive/music_training/Classical/Beethoven/Beethoven/Beethoven_-_Piano_Sonata_No_12_in_A-Flat_Major,_Op_26_'Funeral_March'_-_II_Scherzo_Allegro_molto-04JM9YV58bsmi.abc\", \"/content/drive/MyDrive/music_training/Classical/Beethoven/Beethoven/Beethoven_-_Piano_Sonata_No_12_in_A-Flat_Major,_Op_26_'Funeral_March'_-_III_Marcia_funebre-bp90HVE3LJ4mi.abc\", \"/content/drive/MyDrive/music_training/Classical/Beethoven/Beethoven/Beethoven_-_Piano_Sonata_No_12_in_A-Flat_Major,_Op_26_'Funeral_March'_-_IV_Allegro-D8F9lX_fpYUmi.abc\", \"/content/drive/MyDrive/music_training/Classical/Beethoven/Beethoven/Beethoven_-_Piano_Sonata_No_13_in_E-Flat_Major,_Op_27_No_1_'Quasi_una_fantasia'_-_I_Andante-lnk5jAXxB_gmi.abc\", \"/content/drive/MyDrive/music_training/Classical/Beethoven/Beethoven/Beethoven_-_Piano_Sonata_No_13_in_E-Flat_Major,_Op_27_No_1_'Quasi_una_fantasia'_-_II_Allegro-5fVv_GdyBNcmi.abc\", \"/content/drive/MyDrive/music_training/Classical/Beethoven/Beethoven/Beethoven_-_Piano_Sonata_No_13_in_E-Flat_Major,_Op_27_No_1_'Quasi_una_fantasia'_-_III_Adagio-YHUzk6523lkmi.abc\", \"/content/drive/MyDrive/music_training/Classical/Beethoven/Beethoven/Beethoven_-_Piano_Sonata_No_13_in_E-Flat_Major,_Op_27_No_1_'Quasi_una_fantasia'_-_IV_Allegro-IKdUa9IAtrsmi.abc\", \"/content/drive/MyDrive/music_training/Classical/Beethoven/Beethoven/Beethoven_-_Piano_Sonata_No_14_in_C-Sharp_Minor,_Op_27_No_2_'Moonlight'_-_I_Adagio_sostenuto-wJDOmfe0Sywmi.abc\", \"/content/drive/MyDrive/music_training/Classical/Beethoven/Beethoven/Beethoven_-_Piano_Sonata_No_14_in_C-Sharp_Minor,_Op_27_No_2_'Moonlight'_-_II_Allegretto-zKw9ads-XAgmi.abc\", \"/content/drive/MyDrive/music_training/Classical/Beethoven/Beethoven/Beethoven_-_Piano_Sonata_No_14_in_C-Sharp_Minor,_Op_27_No_2_'Moonlight'_-_III_Presto_agitato-paNq1cur_jAmi.abc\", \"/content/drive/MyDrive/music_training/Classical/Beethoven/Beethoven/Beethoven_-_Piano_Sonata_No_15_in_D_Major,_Op_28_'Pastorale'_-_I_Allegro--XxFaAMUqnEmi.abc\", \"/content/drive/MyDrive/music_training/Classical/Beethoven/Beethoven/Beethoven_-_Piano_Sonata_No_15_in_D_Major,_Op_28_'Pastorale'_-_II_Andante-yrcH2IW2HEgmi.abc\", \"/content/drive/MyDrive/music_training/Classical/Beethoven/Beethoven/Beethoven_-_Piano_Sonata_No_15_in_D_Major,_Op_28_'Pastorale'_-_III_Scherzo_Allegro_vivace-rK6tj0gXtyAmi.abc\", \"/content/drive/MyDrive/music_training/Classical/Beethoven/Beethoven/Beethoven_-_Piano_Sonata_No_15_in_D_Major,_Op_28_'Pastorale'_-_IV_Rondo_Allegro_ma_non_troppo-bujOEvIPAvQmi.abc\", '/content/drive/MyDrive/music_training/Classical/Beethoven/Beethoven/Beethoven_-_Piano_Sonata_No_16_in_G_Major,_Op_31_No_1_-_I_Allegro_vivace-I8bgb8XXnLsmi.abc', '/content/drive/MyDrive/music_training/Classical/Beethoven/Beethoven/Beethoven_-_Piano_Sonata_No_16_in_G_Major,_Op_31_No_1_-_II_Adagio_grazioso-OAbluRaGqYkmi.abc', '/content/drive/MyDrive/music_training/Classical/Beethoven/Beethoven/Beethoven_-_Piano_Sonata_No_16_in_G_Major,_Op_31_No_1_-_III_Rondo_Allegretto-vPr28RkYBT0mi.abc', \"/content/drive/MyDrive/music_training/Classical/Beethoven/Beethoven/Beethoven_-_Piano_Sonata_No_17_in_D_Minor,_Op_31_No_2_'The_Tempest'_-_I_Largo_-_Allegro-fqE0WZyyz5omi.abc\", \"/content/drive/MyDrive/music_training/Classical/Beethoven/Beethoven/Beethoven_-_Piano_Sonata_No_17_in_D_Minor,_Op_31_No_2_'The_Tempest'_-_II_Adagio-xQEiElrFChYmi.abc\", \"/content/drive/MyDrive/music_training/Classical/Beethoven/Beethoven/Beethoven_-_Piano_Sonata_No_17_in_D_Minor,_Op_31_No_2_'The_Tempest'_-_III_Allegretto-feFlzjuDw-Ymi.abc\", \"/content/drive/MyDrive/music_training/Classical/Beethoven/Beethoven/Beethoven_-_Piano_Sonata_No_18_in_E-Flat_Major,_Op_31_No_3_'The_Hunt'_-_I_Allegro-ypoMsTYmShwmi.abc\", \"/content/drive/MyDrive/music_training/Classical/Beethoven/Beethoven/Beethoven_-_Piano_Sonata_No_18_in_E-Flat_Major,_Op_31_No_3_'The_Hunt'_-_II_Scherzo-9rXkTtlwmCUmi.abc\", \"/content/drive/MyDrive/music_training/Classical/Beethoven/Beethoven/Beethoven_-_Piano_Sonata_No_18_in_E-Flat_Major,_Op_31_No_3_'The_Hunt'_-_III_Menuetto-G4MDk7snwtgmi.abc\", \"/content/drive/MyDrive/music_training/Classical/Beethoven/Beethoven/Beethoven_-_Piano_Sonata_No_18_in_E-Flat_Major,_Op_31_No_3_'The_Hunt'_-_IV_Presto_con_fuoco-xZMMB8BnCSkmi.abc\", '/content/drive/MyDrive/music_training/Classical/Beethoven/Beethoven/Beethoven_-_Piano_Sonata_No_19_in_G_Minor,_Op_49_No_1_-_I_Andante-QN14QaKB-cEmi.abc', '/content/drive/MyDrive/music_training/Classical/Beethoven/Beethoven/Beethoven_-_Piano_Sonata_No_19_in_G_Minor,_Op_49_No_1_-_II_Rondo_Allegro-0mz7_HLxSmomi.abc', '/content/drive/MyDrive/music_training/Classical/Beethoven/Beethoven/Beethoven_-_Piano_Sonata_No_2_in_A_Major,_Op_2_No_2_-_I_Allegro_vivace-j8l2Vm4A_Z4mi.abc', '/content/drive/MyDrive/music_training/Classical/Beethoven/Beethoven/Beethoven_-_Piano_Sonata_No_2_in_A_Major,_Op_2_No_2_-_II_Largo_appassionato-FTseIuEQe4Mmi.abc', '/content/drive/MyDrive/music_training/Classical/Beethoven/Beethoven/Beethoven_-_Piano_Sonata_No_2_in_A_Major,_Op_2_No_2_-_III_Scherzo_Allegretto-OYy0aGKQc8Ymi.abc', '/content/drive/MyDrive/music_training/Classical/Beethoven/Beethoven/Beethoven_-_Piano_Sonata_No_2_in_A_Major,_Op_2_No_2_-_IV_Rondo_Grazioso-Z_hGL5kHU50mi.abc', '/content/drive/MyDrive/music_training/Classical/Beethoven/Beethoven/Beethoven_-_Piano_Sonata_No_20_in_G_Major,_Op_49_No_2_-_I_Allegro_ma_non_troppo-Ew5fphYybIsmi.abc', '/content/drive/MyDrive/music_training/Classical/Beethoven/Beethoven/Beethoven_-_Piano_Sonata_No_20_in_G_Major,_Op_49_No_2_-_II_Tempo_di_Menuetto-eftjDODO15cmi.abc', \"/content/drive/MyDrive/music_training/Classical/Beethoven/Beethoven/Beethoven_-_Piano_Sonata_No_21_in_C_Major,_Op_53_'Waldstein'_-_I_Allegro_con_brio-nS0plVylQDEmi.abc\", \"/content/drive/MyDrive/music_training/Classical/Beethoven/Beethoven/Beethoven_-_Piano_Sonata_No_21_in_C_Major,_Op_53_'Waldstein'_-_II_Introduzione_Adagio_molto--tz03WXFPQcmi.abc\", \"/content/drive/MyDrive/music_training/Classical/Beethoven/Beethoven/Beethoven_-_Piano_Sonata_No_21_in_C_Major,_Op_53_'Waldstein'_-_III_Rondo_Allegretto_moderato.abc\", \"/content/drive/MyDrive/music_training/Classical/Beethoven/Beethoven/Beethoven_-_Piano_Sonata_No_22_in_F_Major,_Op_54_-_I_In_Tempo_d'un_Menuetto---v6eX0yqwUmi.abc\", '/content/drive/MyDrive/music_training/Classical/Beethoven/Beethoven/Beethoven_-_Piano_Sonata_No_22_in_F_Major,_Op_54_-_II_Allegretto_-_Piu_Allegro-XfqcRmEBHQAmi.abc', \"/content/drive/MyDrive/music_training/Classical/Beethoven/Beethoven/Beethoven_-_Piano_Sonata_No_23_in_F_Minor,_Op_57_'Appassionata'_-_I_Allegro_assai.abc\", \"/content/drive/MyDrive/music_training/Classical/Beethoven/Beethoven/Beethoven_-_Piano_Sonata_No_23_in_F_Minor,_Op_57_'Appassionata'_-_II_Andante_con_moto-MTGS6PypD3gmi.abc\", \"/content/drive/MyDrive/music_training/Classical/Beethoven/Beethoven/Beethoven_-_Piano_Sonata_No_23_in_F_Minor,_Op_57_'Appassionata'_-_III_Allegro_ma_non_troppo-uw9dnbb8gxkmi.abc\", \"/content/drive/MyDrive/music_training/Classical/Beethoven/Beethoven/Beethoven_-_Piano_Sonata_No_24_in_F-Sharp_Major,_Op_78_'A-Therese'_-_I_Adagio_cantabile_--GWri7UXHU_8mi.abc\", \"/content/drive/MyDrive/music_training/Classical/Beethoven/Beethoven/Beethoven_-_Piano_Sonata_No_24_in_F-Sharp_Major,_Op_78_'A_Therese'_-_II_Allegro_vivace-g5rJCX0a7wUmi.abc\", \"/content/drive/MyDrive/music_training/Classical/Beethoven/Beethoven/Beethoven_-_Piano_Sonata_No_25_in_G_Major,_Op_79_'Sonatina'_-_I_Presto_alla_tedesca-go2JGw4iNPQmi.abc\", \"/content/drive/MyDrive/music_training/Classical/Beethoven/Beethoven/Beethoven_-_Piano_Sonata_No_25_in_G_Major,_Op_79_'Sonatina'_-_II_Andante-D_2uSkZWhwkmi.abc\", \"/content/drive/MyDrive/music_training/Classical/Beethoven/Beethoven/Beethoven_-_Piano_Sonata_No_25_in_G_Major,_Op_79_'Sonatina'_-_III_Vivace-wxanX8Ufk3smi.abc\", \"/content/drive/MyDrive/music_training/Classical/Beethoven/Beethoven/Beethoven_-_Piano_Sonata_No_26_in_E-Flat_Major,_Op_81a_'Les_Adieux'_-_I_Das_Lebewohl_Adagio-Nrh8fNQedu4mi.abc\", \"/content/drive/MyDrive/music_training/Classical/Beethoven/Beethoven/Beethoven_-_Piano_Sonata_No_26_in_E-Flat_Major,_Op_81a_'Les_Adieux'_-_II_Abwesenheit_Andante-o-KNUPJccPkmi.abc\", \"/content/drive/MyDrive/music_training/Classical/Beethoven/Beethoven/Beethoven_-_Piano_Sonata_No_26_in_E-Flat_Major,_Op_81a_'Les_Adieux'_-_III_Das_Wiedersehen-BOMnh2bZauomi.abc\", '/content/drive/MyDrive/music_training/Classical/Beethoven/Beethoven/Beethoven_-_Piano_Sonata_No_27_in_E_Minor,_Op_90_-_I_Mit_Lebhaftigkeit_und_durchaus_mit-htzii7_GXJkmi.abc', '/content/drive/MyDrive/music_training/Classical/Beethoven/Beethoven/Beethoven_-_Piano_Sonata_No_27_in_E_Minor,_Op_90_-_II_Nicht_zu_geschwind_und_sehr_singbar-bd_vFauCD78mi.abc', '/content/drive/MyDrive/music_training/Classical/Beethoven/Beethoven/Beethoven_-_Piano_Sonata_No_28_in_A_Major,_Op_101_-_I_Etwas_lebhaft_und_mit_der_innigsten-AznkN3pRfm4mi.abc', '/content/drive/MyDrive/music_training/Classical/Beethoven/Beethoven/Beethoven_-_Piano_Sonata_No_28_in_A_Major,_Op_101_-_II_Lebhaft,_marschmäßig_Vivace_alla_marcia-F-DtHXqZ09smi.abc', '/content/drive/MyDrive/music_training/Classical/Beethoven/Beethoven/Beethoven_-_Piano_Sonata_No_28_in_A_Major,_Op_101_-_III_Langsam_und_sehnsuchtsvoll_Adagio_ma-WEG4WLf1uPQmi.abc', '/content/drive/MyDrive/music_training/Classical/Beethoven/Beethoven/Beethoven_-_Piano_Sonata_No_28_in_A_Major,_Op_101_-_IV_Geschwind,_doch_nicht_zu_sehr_und_mit-MWRvYPvTQh8mi.abc', \"/content/drive/MyDrive/music_training/Classical/Beethoven/Beethoven/Beethoven_-_Piano_Sonata_No_29_in_B-Flat_Major,_Op_106_'Hammerklavier'_-_I_Allegro.abc\", \"/content/drive/MyDrive/music_training/Classical/Beethoven/Beethoven/Beethoven_-_Piano_Sonata_No_29_in_B-Flat_Major,_Op_106_'Hammerklavier'_-_II_Scherzo_Assai_vivace--XY4p-tdhGomi.abc\", \"/content/drive/MyDrive/music_training/Classical/Beethoven/Beethoven/Beethoven_-_Piano_Sonata_No_29_in_B-Flat_Major,_Op_106_'Hammerklavier'_-_III_Adagio_sostenuto-LXZdC_sBbOcmi.abc\", \"/content/drive/MyDrive/music_training/Classical/Beethoven/Beethoven/Beethoven_-_Piano_Sonata_No_29_in_B-Flat_Major,_Op_106_'Hammerklavier'_-_IVa_Largo_--ZgwBJhOg7tkmi.abc\", \"/content/drive/MyDrive/music_training/Classical/Beethoven/Beethoven/Beethoven_-_Piano_Sonata_No_29_in_B-Flat_Major,_Op_106_'Hammerklavier'_-_IVb_Allegro_risoluto-ya2ncyXU1gwmi.abc\", '/content/drive/MyDrive/music_training/Classical/Beethoven/Beethoven/Beethoven_-_Piano_Sonata_No_3_in_C_Major,_Op_2_No_3_-_I_Allegro_con_brio-7-y6JytbkE4mi.abc', '/content/drive/MyDrive/music_training/Classical/Beethoven/Beethoven/Beethoven_-_Piano_Sonata_No_3_in_C_Major,_Op_2_No_3_-_II_Adagio-5M_Zmi_T8FUmi.abc', '/content/drive/MyDrive/music_training/Classical/Beethoven/Beethoven/Beethoven_-_Piano_Sonata_No_3_in_C_Major,_Op_2_No_3_-_III_Scherzo_Allegro-TTW3cj8oofMmi.abc', '/content/drive/MyDrive/music_training/Classical/Beethoven/Beethoven/Beethoven_-_Piano_Sonata_No_3_in_C_Major,_Op_2_No_3_-_IV_Allegro_assai-HTDG6lWYuRsmi.abc', '/content/drive/MyDrive/music_training/Classical/Beethoven/Beethoven/Beethoven_-_Piano_Sonata_No_30_in_E_Major,_Op_109_-_I_Vivace,_ma_non_troppo_-_Adagio-AiBkHO6DPB8mi.abc', '/content/drive/MyDrive/music_training/Classical/Beethoven/Beethoven/Beethoven_-_Piano_Sonata_No_30_in_E_Major,_Op_109_-_II_Prestissimo-vm3W1If_9gYmi.abc', '/content/drive/MyDrive/music_training/Classical/Beethoven/Beethoven/Beethoven_-_Piano_Sonata_No_30_in_E_Major,_Op_109_-_IIIa_Gesangvoll,_mit_innigster_Empfindung-2h0N22EIDZUmi.abc', '/content/drive/MyDrive/music_training/Classical/Beethoven/Beethoven/Beethoven_-_Piano_Sonata_No_30_in_E_Major,_Op_109_-_IIIb_Variation_I_-_Molto_espressivo-eLlmpAB2hwEmi.abc', '/content/drive/MyDrive/music_training/Classical/Beethoven/Beethoven/Beethoven_-_Piano_Sonata_No_30_in_E_Major,_Op_109_-_IIIc_Variation_II_-_Leggiermente-T9KKfORbcaEmi.abc', '/content/drive/MyDrive/music_training/Classical/Beethoven/Beethoven/Beethoven_-_Piano_Sonata_No_30_in_E_Major,_Op_109_-_IIId_Variation_III_-_Allegro_vivace-7cd6viZaC6Umi.abc', '/content/drive/MyDrive/music_training/Classical/Beethoven/Beethoven/Beethoven_-_Piano_Sonata_No_30_in_E_Major,_Op_109_-_IIIe_Variation_IV_-_Etwas_langsamer_als-yjw8oSi7fswmi.abc', '/content/drive/MyDrive/music_training/Classical/Beethoven/Beethoven/Beethoven_-_Piano_Sonata_No_30_in_E_Major,_Op_109_-_IIIf_Variation_V_-_Allegro,_ma_non_troppo-xNeiGPIMyH8mi.abc', '/content/drive/MyDrive/music_training/Classical/Beethoven/Beethoven/Beethoven_-_Piano_Sonata_No_30_in_E_Major,_Op_109_-_IIIg_Variation_VI_-_Tempo_I_del_tema-2vHHbhSe3uQmi.abc', '/content/drive/MyDrive/music_training/Classical/Beethoven/Beethoven/Beethoven_-_Piano_Sonata_No_31_in_A-Flat_Major,_Op_110_-_I_Moderato_cantabile_molto_espressivo-EdGzKCoEcqcmi.abc', '/content/drive/MyDrive/music_training/Classical/Beethoven/Beethoven/Beethoven_-_Piano_Sonata_No_31_in_A-Flat_Major,_Op_110_-_II_Allegro_molto-EdW9Q6uIGX0mi.abc', '/content/drive/MyDrive/music_training/Classical/Beethoven/Beethoven/Beethoven_-_Piano_Sonata_No_31_in_A-Flat_Major,_Op_110_-_IIIa_Adagio_ma_non_troppo-CwZf1rO-mM0mi.abc', '/content/drive/MyDrive/music_training/Classical/Beethoven/Beethoven/Beethoven_-_Piano_Sonata_No_31_in_A-Flat_Major,_Op_110_-_IIIb_Fuga_Allegro_ma_non_troppo-1_WzJLrfWb8mi.abc', '/content/drive/MyDrive/music_training/Classical/Beethoven/Beethoven/Beethoven_-_Piano_Sonata_No_32_in_C_Minor,_Op_111_-_I_Maestoso_-_Allegro_con_brio_ed_appassionato-qimnLwKec_cmi.abc', '/content/drive/MyDrive/music_training/Classical/Beethoven/Beethoven/Beethoven_-_Piano_Sonata_No_32_in_C_Minor,_Op_111_-_IIa_Arietta_Adagio_molto_semplice_e-IY69K4QTFswmi.abc', '/content/drive/MyDrive/music_training/Classical/Beethoven/Beethoven/Beethoven_-_Piano_Sonata_No_32_in_C_Minor,_Op_111_-_IIb_Variation_I-GNkrUFv4LpQmi.abc', '/content/drive/MyDrive/music_training/Classical/Beethoven/Beethoven/Beethoven_-_Piano_Sonata_No_32_in_C_Minor,_Op_111_-_IIc_Variation_II-n1i0SF6OBtMmi.abc', '/content/drive/MyDrive/music_training/Classical/Beethoven/Beethoven/Beethoven_-_Piano_Sonata_No_32_in_C_Minor,_Op_111_-_IId_Variation_III-HjwYqHDER0smi.abc', '/content/drive/MyDrive/music_training/Classical/Beethoven/Beethoven/Beethoven_-_Piano_Sonata_No_32_in_C_Minor,_Op_111_-_IIe_Variation_IV-DR9OKpMs9XQmi.abc', '/content/drive/MyDrive/music_training/Classical/Beethoven/Beethoven/Beethoven_-_Piano_Sonata_No_32_in_C_Minor,_Op_111_-_IIf_Variation_V-PAGwjPMgaAEmi.abc', \"/content/drive/MyDrive/music_training/Classical/Beethoven/Beethoven/Beethoven_-_Piano_Sonata_No_4_in_E-Flat_Major,_Op_7_'Grand_Sonata'_-_I_Allegro_molto_e_con_brio-68d2pyI-vRYmi.abc\", \"/content/drive/MyDrive/music_training/Classical/Beethoven/Beethoven/Beethoven_-_Piano_Sonata_No_4_in_E-Flat_Major,_Op_7_'Grand_Sonata'_-_II_Largo,_con_gran-S5xttUtqOYcmi.abc\", \"/content/drive/MyDrive/music_training/Classical/Beethoven/Beethoven/Beethoven_-_Piano_Sonata_No_4_in_E-Flat_Major,_Op_7_'Grand_Sonata'_-_III_Allegro_-_Trio-O2bp3W7BQsQmi.abc\", \"/content/drive/MyDrive/music_training/Classical/Beethoven/Beethoven/Beethoven_-_Piano_Sonata_No_4_in_E-Flat_Major,_Op_7_'Grand_Sonata'_-_IV_Rondo_Poco-1jEuu_zKVSMmi.abc\", '/content/drive/MyDrive/music_training/Classical/Beethoven/Beethoven/Beethoven_-_Piano_Sonata_No_5_in_C_Minor,_Op_10_No_1_-_I_Allegro_molto_e_con_brio-WQSD9bAYH7gmi.abc', '/content/drive/MyDrive/music_training/Classical/Beethoven/Beethoven/Beethoven_-_Piano_Sonata_No_5_in_C_Minor,_Op_10_No_1_-_II_Adagio_molto-3G9rO0YTdi0mi.abc', '/content/drive/MyDrive/music_training/Classical/Beethoven/Beethoven/Beethoven_-_Piano_Sonata_No_5_in_C_Minor,_Op_10_No_1_-_III_Finale_Prestissimo-D_L9rls1pnQmi.abc', '/content/drive/MyDrive/music_training/Classical/Beethoven/Beethoven/Beethoven_-_Piano_Sonata_No_6_in_F_Major,_Op_10_No_2_-_I_Allegro-LfoTvM6GFVsmi.abc', '/content/drive/MyDrive/music_training/Classical/Beethoven/Beethoven/Beethoven_-_Piano_Sonata_No_6_in_F_Major,_Op_10_No_2_-_II_Allegretto-OX8Pqf02bIkmi.abc', '/content/drive/MyDrive/music_training/Classical/Beethoven/Beethoven/Beethoven_-_Piano_Sonata_No_6_in_F_Major,_Op_10_No_2_-_III_Presto-yf62xKqnyNcmi.abc', '/content/drive/MyDrive/music_training/Classical/Beethoven/Beethoven/Beethoven_-_Piano_Sonata_No_7_in_D_Major,_Op_10_No_3_-_II_Largo_e_mesto-3aNR_XQ2_y8mi.abc', '/content/drive/MyDrive/music_training/Classical/Beethoven/Beethoven/Beethoven_-_Piano_Sonata_No_7_in_D_Major,_Op_10_No_3_-_III_Menuetto_Allegro-1Gvd1JJBMdcmi.abc', '/content/drive/MyDrive/music_training/Classical/Beethoven/Beethoven/Beethoven_-_Piano_Sonata_No_7_in_D_Major,_Op_10_No_3_-_IV_Rondo_Allegro-8YSHDV8UYYwmi.abc', \"/content/drive/MyDrive/music_training/Classical/Beethoven/Beethoven/Beethoven_-_Piano_Sonata_No_8_in_C_Minor,_Op_13_'Pathetique'_-_I_Grave_-_Allegro_di_molto_e-iXHj0IuxYNomi.abc\", \"/content/drive/MyDrive/music_training/Classical/Beethoven/Beethoven/Beethoven_-_Piano_Sonata_No_8_in_C_Minor,_Op_13_'Pathetique'_-_II_Adagio_cantabile-STlNBiSWNhgmi.abc\", \"/content/drive/MyDrive/music_training/Classical/Beethoven/Beethoven/Beethoven_-_Piano_Sonata_No_8_in_C_Minor,_Op_13_'Pathétique'_-_III_Rondo_Allegro-3rboLpSKsGEmi.abc\", '/content/drive/MyDrive/music_training/Classical/Beethoven/Beethoven/Beethoven_-_Piano_Sonata_No_9_in_E_Major,_Op_14_No_1_-_I_Allegro-dvtIVpkZMV0mi.abc', '/content/drive/MyDrive/music_training/Classical/Beethoven/Beethoven/Beethoven_-_Piano_Sonata_No_9_in_E_Major,_Op_14_No_1_-_II_Allegretto-0bm8lQP3Nbkmi.abc', '/content/drive/MyDrive/music_training/Classical/Beethoven/Beethoven/Beethoven_-_Piano_Sonata_No_9_in_E_Major,_Op_14_No_1_-_III_Rondo_Allegro_comodo-QrvbwN6G5dAmi.abc', '/content/drive/MyDrive/music_training/Modern Piano/Holly Mead/Holly Mead/The_Vale.abc', '/content/drive/MyDrive/music_training/Modern Piano/Holly Mead/Holly Mead/Sunset_Pigs.abc', '/content/drive/MyDrive/music_training/Modern Piano/Holly Mead/Holly Mead/Solitary_Animalsmi.abc', '/content/drive/MyDrive/music_training/Modern Piano/Holly Mead/Holly Mead/Sausal_Creekmi.abc', '/content/drive/MyDrive/music_training/Modern Piano/Holly Mead/Holly Mead/Hen_Wenmi.abc', '/content/drive/MyDrive/music_training/Modern Piano/Holly Mead/Holly Mead/Haeddremi.abc', '/content/drive/MyDrive/music_training/Modern Piano/Holly Mead/Holly Mead/Camelliami.abc', '/content/drive/MyDrive/music_training/Modern Piano/Holly Mead/Holly Mead/Baccharismi.abc', '/content/drive/MyDrive/music_training/Modern Piano/Holly Mead/Holly Mead/Aiaiami.abc']\n",
            "number of song files is 196\n"
          ]
        }
      ]
    },
    {
      "cell_type": "markdown",
      "metadata": {
        "id": "Y8k890KUiCe9"
      },
      "source": [
        "##**Evaluate the Song Files**"
      ]
    },
    {
      "cell_type": "code",
      "source": [
        "import os\n",
        "rootDir = r\"/content/drive/MyDrive/music_training\"\n",
        "\n",
        "# On second inspection, it looks like I just walk over my files\n",
        "# instead of globbing them. But this seemed to work fine\n",
        "# except for the comments I make below.\n",
        "# (globbing is fine if that's better. I haven't used it before,\n",
        "# but I think I understand it.)\n",
        "for dirName, subdirList, fileList in os.walk(rootDir):\n",
        "    for s in fileList:\n",
        "      print(\"\\n\" + s)\n",
        "      score = music21.converter.parse(os.path.join(dirName, s))\n",
        "\n",
        "      key = None\n",
        "      metre = None\n",
        "\n",
        "      # I don't quite understand the 'parts' attribute\n",
        "      # and why we need to iterate like this.\n",
        "      # At one point I managed to retrieve the key as\n",
        "      # a string using a built-in method and __repr__,\n",
        "      # but that isn't really necessary if this works fine!\n",
        "      part = score.parts[0]\n",
        "      for p in part:\n",
        "        if isinstance(p, Iterable):\n",
        "          for n in p:\n",
        "            if type(n) == music21.key.Key:\n",
        "              key = n.name\n",
        "            if type(n) == music21.meter.TimeSignature:\n",
        "              metre = n.ratioString\n",
        "\n",
        "      if metre in metres.keys():\n",
        "        metres[metre] += 1\n",
        "      else:\n",
        "        metres[metre] = 1\n",
        "\n",
        "      if key in keys.keys():\n",
        "        keys[key] += 1\n",
        "      else:\n",
        "        keys[key] = 1\n",
        "\n",
        "      # I have lots of waltzes in my data and I'd like to try\n",
        "      # training on 3/4 pieces as well, unless you know from\n",
        "      # experience that it doesn't work well\n",
        "      # if not (metre == \"4/4\" or metre == \"2/2\"):\n",
        "        # continue\n",
        "      \n",
        "      # I think my files appear as 'a minor rather than 'C major',\n",
        "      # but they're all transposed.\n",
        "      # if not \"major\" in key:\n",
        "      #   continue\n",
        "\n",
        "      print(key, metre)\n",
        "\n",
        "      # I don't think I need this bit since my files are pre-transposed\n",
        "      # if key in keys.keys():\n",
        "      #   keys[key] += 1\n",
        "      # else:\n",
        "      #   keys[key] = 1\n",
        "\n",
        "      # if key in transpose_dict.keys():\n",
        "      #   interval = transpose_dict[key]\n",
        "      #   print(\"transposing from key\", key, \"to C major using interval\", interval)\n",
        "      #   score = score.transpose(interval)\n",
        "\n",
        "      # aaaand I don't understand this at all 😄\n",
        "      note_array = []\n",
        "\n",
        "      for p in part:\n",
        "        if isinstance(p, Iterable):\n",
        "          for n in p:\n",
        "            if type(n) == music21.note.Note:\n",
        "              note_array.append([int(n.pitch.ps), int(n.quarterLength*4+0.5)])\n",
        "\n",
        "      # print(note_array)\n",
        "\n",
        "      CMM = music_geometry_eval.calculate_time_supported_conjunct_melodic_motion(note_array)\n",
        "      LM = music_geometry_eval.calculate_time_supported_limited_macroharmony(note_array, span_size=32)\n",
        "\n",
        "      # I'm getting pretty consistent errors with centricity and skipped all the evaluation\n",
        "      # steps because of it, opting to just roll the dice and fine-tune the model directly\n",
        "      CENT = music_geometry_eval.calculate_time_supported_centricity(note_array, span_size=32)\n",
        "\n",
        "      print(\"CMM :\", round(CMM, 4))\n",
        "      print(\"LM  :\", round(LM, 4))\n",
        "      print(\"CENT:\", round(CENT, 4))\n",
        "      \n",
        "      cmm_arr = np.append(cmm_arr, CMM)\n",
        "      lm_arr = np.append(lm_arr, LM)\n",
        "      cent_arr = np.append(cent_arr, CENT)\n",
        "\n",
        "    print(metres)\n",
        "    print(keys)      "
      ],
      "metadata": {
        "id": "qmusuOrc-m-m"
      },
      "execution_count": null,
      "outputs": []
    },
    {
      "cell_type": "markdown",
      "metadata": {
        "id": "1jid4deViGv8"
      },
      "source": [
        "## **Show the Statistics**"
      ]
    },
    {
      "cell_type": "code",
      "source": [
        "score = music21.converter.parse(song_files[0])\n",
        "\n",
        "part = score.parts[0]\n",
        "for p in part:\n",
        "  if isinstance(p, Iterable):\n",
        "    for n in p:\n",
        "      if type(n) == music21.key.Key:\n",
        "        key = n.name\n",
        "      if type(n) == music21.meter.TimeSignature:\n",
        "        metre = n.ratioString"
      ],
      "metadata": {
        "id": "VObR2SMpGTH6"
      },
      "execution_count": null,
      "outputs": []
    },
    {
      "cell_type": "code",
      "source": [
        "score.analyze('key').__str__()\n",
        "for p in part:\n",
        "  if isinstance(p, Iterable):\n",
        "    for n in p:\n",
        "      if type(n) == music21.note.Note:\n",
        "        print('n')"
      ],
      "metadata": {
        "id": "4rzIIrc5HQrj"
      },
      "execution_count": null,
      "outputs": []
    },
    {
      "cell_type": "code",
      "metadata": {
        "id": "YxWpBVrOZKpq",
        "colab": {
          "base_uri": "https://localhost:8080/"
        },
        "outputId": "cf4d1058-0867-4cc4-a871-83e6fc62e426"
      },
      "source": [
        "CMM_mean = cmm_arr.mean()\n",
        "CMM_std = cmm_arr.std()\n",
        "\n",
        "LM_mean = lm_arr.mean()\n",
        "LM_std = lm_arr.std()\n",
        "\n",
        "CENT_mean = cent_arr.mean()\n",
        "CENT_std = cent_arr.std()\n",
        "\n",
        "print(\"Conjunct Melodic Motion (CMM) :\", round(CMM_mean, 4), \"±\", round(CMM_std, 4))\n",
        "print(\"Limited Macroharmony    (LM)  :\", round(LM_mean, 4), \"±\", round(LM_std, 4))\n",
        "print(\"Centricity              (CENT):\", round(CENT_mean, 4), \"±\", round(CENT_std, 4))"
      ],
      "execution_count": null,
      "outputs": [
        {
          "output_type": "stream",
          "name": "stdout",
          "text": [
            "Conjunct Melodic Motion (CMM) : nan ± nan\n",
            "Limited Macroharmony    (LM)  : nan ± nan\n",
            "Centricity              (CENT): nan ± nan\n"
          ]
        },
        {
          "output_type": "stream",
          "name": "stderr",
          "text": [
            "/usr/local/lib/python3.7/dist-packages/ipykernel_launcher.py:1: RuntimeWarning: Mean of empty slice.\n",
            "  \"\"\"Entry point for launching an IPython kernel.\n",
            "/usr/local/lib/python3.7/dist-packages/numpy/core/_methods.py:189: RuntimeWarning: invalid value encountered in true_divide\n",
            "  ret = ret.dtype.type(ret / rcount)\n",
            "/usr/local/lib/python3.7/dist-packages/numpy/core/_methods.py:263: RuntimeWarning: Degrees of freedom <= 0 for slice\n",
            "  keepdims=keepdims, where=where)\n",
            "/usr/local/lib/python3.7/dist-packages/numpy/core/_methods.py:223: RuntimeWarning: invalid value encountered in true_divide\n",
            "  subok=False)\n",
            "/usr/local/lib/python3.7/dist-packages/numpy/core/_methods.py:254: RuntimeWarning: invalid value encountered in true_divide\n",
            "  ret = ret.dtype.type(ret / rcount)\n",
            "/usr/local/lib/python3.7/dist-packages/ipykernel_launcher.py:4: RuntimeWarning: Mean of empty slice.\n",
            "  after removing the cwd from sys.path.\n",
            "/usr/local/lib/python3.7/dist-packages/ipykernel_launcher.py:7: RuntimeWarning: Mean of empty slice.\n",
            "  import sys\n"
          ]
        }
      ]
    },
    {
      "cell_type": "markdown",
      "metadata": {
        "id": "HXx2UXq7iXyN"
      },
      "source": [
        "## **Prepare the Training Data**"
      ]
    },
    {
      "cell_type": "code",
      "metadata": {
        "id": "bR5eeHio92KI"
      },
      "source": [
        "import subprocess\n",
        "from collections.abc import Iterable\n",
        "\n",
        "num_prompts = 0\n",
        "prompt_file = open(\"songs.jsonl\", \"w\")\n",
        "prompts = []\n",
        "original_songs = []\n",
        "for s in song_files:\n",
        "  print(s)\n",
        "\n",
        "  # I don't think I need this anymore...?\n",
        "  # score = music21.converter.parse(s)\n",
        "  \n",
        "  # key = None\n",
        "  # metre = None\n",
        "  # part = score.parts[0]\n",
        "  # for p in part:\n",
        "  #   if isinstance(p, Iterable):\n",
        "  #     for n in p:\n",
        "  #       if type(n) == music21.key.Key:\n",
        "  #         key = n.name\n",
        "  #       if type(n) == music21.meter.TimeSignature:\n",
        "  #         metre = n.ratioString\n",
        "  # print(key, metre)\n",
        "\n",
        "  # if not (metre == \"4/4\" or metre == \"2/2\"):\n",
        "  #   continue\n",
        "\n",
        "  # if not \"major\" in key:\n",
        "  #   continue\n",
        "\n",
        "  # if key in transpose_dict.keys():\n",
        "  #   interval = transpose_dict[key]\n",
        "  #   print(\"transposing from key\", key, \"to C major using interval\", interval)\n",
        "  #   score = score.transpose(interval)\n",
        "\n",
        "  # score.write('xml', fp='song.xml')\n",
        "\n",
        "  try:\n",
        "    output_bytes = subprocess.check_output([\"python\", \"/content/xml2abc_143/xml2abc.py\", \"song.xml\", \"-u\", \"-d\", \"4\"], timeout=5)\n",
        "    output = output_bytes.decode(\"utf-8\").strip()\n",
        "    with open(\"song.txt\", \"w\") as abc_file:\n",
        "      abc_file.write(output)\n",
        "  except:\n",
        "    print(\"Unexpected error:\", sys.exc_info()[0])\n",
        "    continue\n",
        "\n",
        "  showed_title = False\n",
        "  prompt_string = \"\"\n",
        "  completion_string = \"\"\n",
        "  is_header = True\n",
        "  with open(s) as song_file:\n",
        "    lines = song_file.readlines()\n",
        "    for line in lines:\n",
        "      line = line.replace(\"$\", \"\")\n",
        "      line = line.replace(\"dc=\", \"\")\n",
        "      line = line.strip()\n",
        "\n",
        "      if line.startswith(\"V:\"):\n",
        "        is_header = False\n",
        "\n",
        "      if is_header:\n",
        "        if line.startswith(\"X:\") or line.startswith(\"C:\") or line.startswith(\"N:\"): # edited to include genre\n",
        "          prompt_string += line+\"\\n\"\n",
        "        if line.startswith(\"T:\") and not showed_title:\n",
        "            prompt_string += line+\"\\n\"\n",
        "            showed_title = True\n",
        "      else:\n",
        "        if not line.startswith(\"w:\") and not line.startswith(\"V:\"):\n",
        "\n",
        "          # remove end of line comments\n",
        "          index = line.rfind('%')\n",
        "          if index > 0:\n",
        "            line = line[:index].strip()\n",
        "\n",
        "          # remove inline comments\n",
        "          parts = line.split('\"')\n",
        "          newline = \"\"\n",
        "          for i, p in enumerate(parts):\n",
        "            if i%2 == 0:\n",
        "              newline += p\n",
        "            elif not p.startswith(\"^\"):\n",
        "              newline += '\"' + p + '\"'\n",
        "          line = ' '.join(newline.split())\n",
        "\n",
        "          completion_string += line+\"\\n\"\n",
        "\n",
        "      if line.startswith(\"V:\"):\n",
        "        is_header = False\n",
        "\n",
        "    prompt_string = prompt_string.replace(\":\",\": \")\n",
        "    prompt_string = prompt_string.replace('\"', \"`\")\n",
        "    prompt_string = prompt_string.replace(\"\\n\",\" $ \")\n",
        "\n",
        "    completion_string = completion_string.replace('\"', \"`\")\n",
        "    completion_string = completion_string.strip().replace(\"\\n\",\" $ \")\n",
        "\n",
        "    prompt = '{\"prompt\": \"' + prompt_string + '<song>\", '\n",
        "    prompt += '\"completion\": \" ' + completion_string + ' $ <end>\"}\\n'\n",
        "\n",
        "    if prompt not in prompts:\n",
        "      original_songs.append(s)\n",
        "      prompt_file.write(prompt)\n",
        "      prompts.append(prompt)\n",
        "      num_prompts += 1\n",
        "\n",
        "prompt_file.close()\n",
        "print(\"num prompts is\", num_prompts)"
      ],
      "execution_count": null,
      "outputs": []
    },
    {
      "cell_type": "markdown",
      "metadata": {
        "id": "o4_76slDij7U"
      },
      "source": [
        "# **Check the Training File**"
      ]
    },
    {
      "cell_type": "code",
      "metadata": {
        "id": "RZ5gLbUaEkYR"
      },
      "source": [
        "!openai tools fine_tunes.prepare_data -f /content/songs.jsonl"
      ],
      "execution_count": null,
      "outputs": []
    },
    {
      "cell_type": "markdown",
      "metadata": {
        "id": "fh8MPqvump8m"
      },
      "source": [
        "# **Train GPT-3**"
      ]
    },
    {
      "cell_type": "code",
      "metadata": {
        "id": "-5lvuiZLd5Hj"
      },
      "source": [
        "!export OPENAI_API_KEY=\"<Your OpenAI API Key>\"; openai api fine_tunes.create -t songs.jsonl --model curie --n_epochs 5"
      ],
      "execution_count": null,
      "outputs": []
    },
    {
      "cell_type": "markdown",
      "metadata": {
        "id": "ho0Xy7cEmw0t"
      },
      "source": [
        "# **Generate Five Songs**"
      ]
    },
    {
      "cell_type": "code",
      "metadata": {
        "id": "hol2mChWjzrr"
      },
      "source": [
        "import openai\n",
        "import music21\n",
        "import numpy as np\n",
        "from collections.abc import Iterable\n",
        "import numpy as np\n",
        "\n",
        "CMM_mean = 2.2715\n",
        "CMM_std = 0.4831\n",
        "\n",
        "LM_mean = 2.0305\n",
        "LM_std = 0.5386\n",
        "\n",
        "CENT_mean = 0.3042\n",
        "CENT_std = 0.0891\n",
        "\n",
        "band_name = \"I Lost My Voice\"\n",
        "song_name = \"The Rare Pearls\"\n",
        "prompt = \"X: 1 $ T: \" + song_name + \" $ C: \" + band_name + \" $ <song>\"\n",
        "print(prompt)\n",
        "print()\n",
        "\n",
        "openai.api_key = \"<Your OpenAI API Key>\"\n",
        "\n",
        "songs_with_scores = []\n",
        "score_arr = np.empty((0), np.float32)\n",
        "\n",
        "for i in range(5):\n",
        "  print(\"\\n  Generating Song\", i)\n",
        "  response = openai.Completion.create(\n",
        "      model=\"curie:ft-user-j0julqovorjakyuyt3kv3zci-2021-08-24-11-42-59\",\n",
        "      prompt=prompt,\n",
        "      stop = \" $ <end>\",\n",
        "      temperature=0.75,\n",
        "      top_p=1.0,\n",
        "      frequency_penalty=0.0,\n",
        "      presence_penalty=0.0,\n",
        "      max_tokens = 1000)\n",
        "\n",
        "  print(response)\n",
        "  print()\n",
        "\n",
        "  formatted_prompt = \"X: 1 $ T: \" + song_name + \" $ C: \" + band_name + \" $ L: 1/4 $ M: 4/4 $ K: C $ V: 1 treble\"\n",
        "  formatted_prompt = formatted_prompt.replace(\" $ \", \"\\n\")\n",
        "  formatted_prompt = formatted_prompt.replace(\"<song>\", \"\").strip()\n",
        "\n",
        "  formatted_song = response[\"choices\"][0][\"text\"].strip()\n",
        "  formatted_song = formatted_song.replace('`', '\"')\n",
        "  formatted_song = formatted_song.replace(\" $ \", \"\\n\")\n",
        "  new_song = formatted_prompt+ \"\\n\" + formatted_song\n",
        "  print(new_song)\n",
        "  with open(\"new_song.abc\", \"w\") as new_song_file:\n",
        "    new_song_file.write(new_song)\n",
        "\n",
        "  song = music21.converter.parse(\"new_song.abc\")\n",
        "\n",
        "  part = song.parts[0]\n",
        "  chord_end = song.highestTime\n",
        "  for pi in reversed(range(len(part))):\n",
        "    p = part[pi]\n",
        "    for ni in reversed(range(len(p))):\n",
        "      n = p[ni]\n",
        "      if type(n) == music21.harmony.ChordSymbol:\n",
        "        chord_start = p.offset + n.offset\n",
        "        n.duration.quarterLength = chord_end - chord_start\n",
        "        n.volume = music21.volume.Volume(velocity=48)\n",
        "        chord_end = chord_start\n",
        "      elif type(n) == music21.note.Note:\n",
        "        n.volume = music21.volume.Volume(velocity=64)\n",
        "  file_name = \"song\" + str(i).zfill(2) + \".mid\"\n",
        "  song.write('midi', fp=file_name)\n",
        "\n",
        "  part = song.parts[0]\n",
        "  note_array = []\n",
        "\n",
        "  for p in part:\n",
        "    if isinstance(p, Iterable):\n",
        "      for n in p:\n",
        "        if type(n) == music21.note.Note:\n",
        "          note_array.append([int(n.pitch.ps), int(n.quarterLength*4+0.5)])\n",
        "\n",
        "  CMM = music_geometry_eval.calculate_time_supported_conjunct_melodic_motion(note_array)\n",
        "  LM = music_geometry_eval.calculate_time_supported_limited_macroharmony(note_array, span_size=32)\n",
        "  CENT = music_geometry_eval.calculate_time_supported_centricity(note_array, span_size=32)\n",
        "\n",
        "  print(\"  CMM :\", round(CMM, 4))\n",
        "  print(\"  LM  :\", round(LM, 4))\n",
        "  print(\"  CENT:\", round(CENT, 4))\n",
        "\n",
        "  norm_cmm = (CMM - CMM_mean) / CMM_std\n",
        "  norm_lm = (LM - LM_mean) / LM_std\n",
        "  norm_cent = (CENT - CENT_mean) / CMM_std\n",
        "\n",
        "  norm_score_squared = norm_cmm * norm_cmm + norm_lm * norm_lm + norm_cent * norm_cent\n",
        "  print(\"  NDM:\", round(norm_score_squared, 4))\n",
        "  score_arr = np.append(score_arr, norm_score_squared)\n",
        "\n",
        "  songs_with_scores.append([norm_score_squared, file_name])\n",
        "\n",
        "songs_with_scores.sort()\n",
        "for pair in songs_with_scores:\n",
        "  print(round(pair[0], 4), pair[1])"
      ],
      "execution_count": null,
      "outputs": []
    },
    {
      "cell_type": "markdown",
      "metadata": {
        "id": "8uKW0IhneCGl"
      },
      "source": [
        "# **Choose a Song and Play It**\n"
      ]
    },
    {
      "cell_type": "code",
      "metadata": {
        "id": "9e4wRsJQfDmk"
      },
      "source": [
        "song_number = 0\n",
        "\n",
        "melody_ns = note_seq.midi_file_to_sequence_proto(songs_with_scores[song_number][1])\n",
        "print(round(songs_with_scores[song_number][0], 4), songs_with_scores[song_number][1])\n",
        "\n",
        "note_seq.play_sequence( \n",
        "  melody_ns,\n",
        "  synth=note_seq.fluidsynth, sample_rate=SAMPLE_RATE, sf2_path=SF2_PATH)\n",
        "note_seq.plot_sequence(melody_ns)"
      ],
      "execution_count": null,
      "outputs": []
    }
  ]
}